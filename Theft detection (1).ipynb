{
 "cells": [
  {
   "cell_type": "code",
   "execution_count": 3,
   "metadata": {
    "execution": {
     "iopub.execute_input": "2024-04-24T16:48:09.287847Z",
     "iopub.status.busy": "2024-04-24T16:48:09.287477Z",
     "iopub.status.idle": "2024-04-24T16:48:09.293709Z",
     "shell.execute_reply": "2024-04-24T16:48:09.292434Z",
     "shell.execute_reply.started": "2024-04-24T16:48:09.287819Z"
    }
   },
   "outputs": [],
   "source": [
    "import os\n",
    "import pandas as pd"
   ]
  },
  {
   "cell_type": "code",
   "execution_count": 4,
   "metadata": {
    "execution": {
     "iopub.execute_input": "2024-04-24T16:48:10.307368Z",
     "iopub.status.busy": "2024-04-24T16:48:10.306294Z",
     "iopub.status.idle": "2024-04-24T16:48:10.334357Z",
     "shell.execute_reply": "2024-04-24T16:48:10.333207Z",
     "shell.execute_reply.started": "2024-04-24T16:48:10.307320Z"
    }
   },
   "outputs": [],
   "source": [
    "lab = pd.read_csv(\"C:/Users/rishi/Downloads/DCSASS Dataset/Labels/Shoplifting.csv\")"
   ]
  },
  {
   "cell_type": "code",
   "execution_count": 5,
   "metadata": {
    "execution": {
     "iopub.execute_input": "2024-04-24T16:48:11.149773Z",
     "iopub.status.busy": "2024-04-24T16:48:11.149074Z",
     "iopub.status.idle": "2024-04-24T16:48:11.174584Z",
     "shell.execute_reply": "2024-04-24T16:48:11.173509Z",
     "shell.execute_reply.started": "2024-04-24T16:48:11.149738Z"
    }
   },
   "outputs": [
    {
     "data": {
      "text/html": [
       "<div>\n",
       "<style scoped>\n",
       "    .dataframe tbody tr th:only-of-type {\n",
       "        vertical-align: middle;\n",
       "    }\n",
       "\n",
       "    .dataframe tbody tr th {\n",
       "        vertical-align: top;\n",
       "    }\n",
       "\n",
       "    .dataframe thead th {\n",
       "        text-align: right;\n",
       "    }\n",
       "</style>\n",
       "<table border=\"1\" class=\"dataframe\">\n",
       "  <thead>\n",
       "    <tr style=\"text-align: right;\">\n",
       "      <th></th>\n",
       "      <th>Shoplifting001_x264_0</th>\n",
       "      <th>Shoplifting</th>\n",
       "      <th>0</th>\n",
       "    </tr>\n",
       "  </thead>\n",
       "  <tbody>\n",
       "    <tr>\n",
       "      <th>0</th>\n",
       "      <td>Shoplifting001_x264_1</td>\n",
       "      <td>Shoplifting</td>\n",
       "      <td>0</td>\n",
       "    </tr>\n",
       "    <tr>\n",
       "      <th>1</th>\n",
       "      <td>Shoplifting001_x264_2</td>\n",
       "      <td>Shoplifting</td>\n",
       "      <td>0</td>\n",
       "    </tr>\n",
       "    <tr>\n",
       "      <th>2</th>\n",
       "      <td>Shoplifting001_x264_3</td>\n",
       "      <td>Shoplifting</td>\n",
       "      <td>0</td>\n",
       "    </tr>\n",
       "    <tr>\n",
       "      <th>3</th>\n",
       "      <td>Shoplifting001_x264_4</td>\n",
       "      <td>Shoplifting</td>\n",
       "      <td>0</td>\n",
       "    </tr>\n",
       "    <tr>\n",
       "      <th>4</th>\n",
       "      <td>Shoplifting001_x264_5</td>\n",
       "      <td>Shoplifting</td>\n",
       "      <td>0</td>\n",
       "    </tr>\n",
       "    <tr>\n",
       "      <th>5</th>\n",
       "      <td>Shoplifting001_x264_6</td>\n",
       "      <td>Shoplifting</td>\n",
       "      <td>0</td>\n",
       "    </tr>\n",
       "    <tr>\n",
       "      <th>6</th>\n",
       "      <td>Shoplifting001_x264_7</td>\n",
       "      <td>Shoplifting</td>\n",
       "      <td>0</td>\n",
       "    </tr>\n",
       "    <tr>\n",
       "      <th>7</th>\n",
       "      <td>Shoplifting001_x264_8</td>\n",
       "      <td>Shoplifting</td>\n",
       "      <td>0</td>\n",
       "    </tr>\n",
       "    <tr>\n",
       "      <th>8</th>\n",
       "      <td>Shoplifting001_x264_9</td>\n",
       "      <td>Shoplifting</td>\n",
       "      <td>1</td>\n",
       "    </tr>\n",
       "    <tr>\n",
       "      <th>9</th>\n",
       "      <td>Shoplifting001_x264_10</td>\n",
       "      <td>Shoplifting</td>\n",
       "      <td>1</td>\n",
       "    </tr>\n",
       "    <tr>\n",
       "      <th>10</th>\n",
       "      <td>Shoplifting001_x264_11</td>\n",
       "      <td>Shoplifting</td>\n",
       "      <td>1</td>\n",
       "    </tr>\n",
       "  </tbody>\n",
       "</table>\n",
       "</div>"
      ],
      "text/plain": [
       "     Shoplifting001_x264_0  Shoplifting  0\n",
       "0    Shoplifting001_x264_1  Shoplifting  0\n",
       "1    Shoplifting001_x264_2  Shoplifting  0\n",
       "2    Shoplifting001_x264_3  Shoplifting  0\n",
       "3    Shoplifting001_x264_4  Shoplifting  0\n",
       "4    Shoplifting001_x264_5  Shoplifting  0\n",
       "5    Shoplifting001_x264_6  Shoplifting  0\n",
       "6    Shoplifting001_x264_7  Shoplifting  0\n",
       "7    Shoplifting001_x264_8  Shoplifting  0\n",
       "8    Shoplifting001_x264_9  Shoplifting  1\n",
       "9   Shoplifting001_x264_10  Shoplifting  1\n",
       "10  Shoplifting001_x264_11  Shoplifting  1"
      ]
     },
     "execution_count": 5,
     "metadata": {},
     "output_type": "execute_result"
    }
   ],
   "source": [
    "lab.head(11)"
   ]
  },
  {
   "cell_type": "code",
   "execution_count": 6,
   "metadata": {
    "execution": {
     "iopub.execute_input": "2024-04-24T16:48:11.853852Z",
     "iopub.status.busy": "2024-04-24T16:48:11.853445Z",
     "iopub.status.idle": "2024-04-24T16:48:11.873051Z",
     "shell.execute_reply": "2024-04-24T16:48:11.871838Z",
     "shell.execute_reply.started": "2024-04-24T16:48:11.853819Z"
    }
   },
   "outputs": [
    {
     "name": "stdout",
     "output_type": "stream",
     "text": [
      "     Shoplifting001_x264_0  Shoplifting\n",
      "0    Shoplifting001_x264_1            0\n",
      "1    Shoplifting001_x264_2            0\n",
      "2    Shoplifting001_x264_3            0\n",
      "3    Shoplifting001_x264_4            0\n",
      "4    Shoplifting001_x264_5            0\n",
      "5    Shoplifting001_x264_6            0\n",
      "6    Shoplifting001_x264_7            0\n",
      "7    Shoplifting001_x264_8            0\n",
      "8    Shoplifting001_x264_9            1\n",
      "9   Shoplifting001_x264_10            1\n",
      "10  Shoplifting001_x264_11            1\n"
     ]
    }
   ],
   "source": [
    "# Drop the 'Shoplifting' column\n",
    "lab = lab.drop(columns=['Shoplifting'])\n",
    "\n",
    "# Rename the '0' column to 'Shoplifting'\n",
    "lab = lab.rename(columns={'0': 'Shoplifting'})\n",
    "\n",
    "# Print the updated DataFrame\n",
    "print(lab.head(11))\n"
   ]
  },
  {
   "cell_type": "code",
   "execution_count": 7,
   "metadata": {
    "execution": {
     "iopub.execute_input": "2024-04-24T16:48:12.339753Z",
     "iopub.status.busy": "2024-04-24T16:48:12.339353Z",
     "iopub.status.idle": "2024-04-24T16:48:12.346068Z",
     "shell.execute_reply": "2024-04-24T16:48:12.344575Z",
     "shell.execute_reply.started": "2024-04-24T16:48:12.339722Z"
    }
   },
   "outputs": [],
   "source": [
    "shoplifting_dir = 'C:/Users/rishi/Downloads/DCSASS Dataset/Labels/Shoplifting/'\n",
    "\n",
    "# Initialize empty lists to store file paths and video names\n",
    "file_paths = []\n",
    "video_names = []\n"
   ]
  },
  {
   "cell_type": "code",
   "execution_count": 8,
   "metadata": {
    "execution": {
     "iopub.execute_input": "2024-04-24T16:48:12.759977Z",
     "iopub.status.busy": "2024-04-24T16:48:12.759563Z",
     "iopub.status.idle": "2024-04-24T16:48:13.153861Z",
     "shell.execute_reply": "2024-04-24T16:48:13.152426Z",
     "shell.execute_reply.started": "2024-04-24T16:48:12.759947Z"
    }
   },
   "outputs": [],
   "source": [
    "for root, dirs, files in os.walk(shoplifting_dir):\n",
    "    for file in files:\n",
    "        if file.endswith('.mp4'):  # Assuming videos are in MP4 format\n",
    "            # Append video filename to the list of file paths\n",
    "            file_path = os.path.join(root, file)\n",
    "            file_paths.append(file_path)\n",
    "            # Extract video name from the full path\n",
    "            video_name = os.path.splitext(file)[0]\n",
    "            video_names.append(video_name)\n"
   ]
  },
  {
   "cell_type": "code",
   "execution_count": 9,
   "metadata": {
    "execution": {
     "iopub.execute_input": "2024-04-24T16:48:13.738249Z",
     "iopub.status.busy": "2024-04-24T16:48:13.737831Z",
     "iopub.status.idle": "2024-04-24T16:48:13.747360Z",
     "shell.execute_reply": "2024-04-24T16:48:13.745562Z",
     "shell.execute_reply.started": "2024-04-24T16:48:13.738205Z"
    }
   },
   "outputs": [
    {
     "name": "stdout",
     "output_type": "stream",
     "text": [
      "                                           file_path              video_name\n",
      "0  /kaggle/input/dcsass-dataset/DCSASS Dataset/Sh...  Shoplifting045_x264_11\n",
      "1  /kaggle/input/dcsass-dataset/DCSASS Dataset/Sh...   Shoplifting045_x264_5\n",
      "2  /kaggle/input/dcsass-dataset/DCSASS Dataset/Sh...  Shoplifting045_x264_29\n",
      "3  /kaggle/input/dcsass-dataset/DCSASS Dataset/Sh...  Shoplifting045_x264_27\n",
      "4  /kaggle/input/dcsass-dataset/DCSASS Dataset/Sh...  Shoplifting045_x264_13\n"
     ]
    }
   ],
   "source": [
    "df_shoplifting_videos = pd.DataFrame({'file_path': file_paths, 'video_name': video_names})\n",
    "\n",
    "# Print the DataFrame\n",
    "print(df_shoplifting_videos.head())"
   ]
  },
  {
   "cell_type": "code",
   "execution_count": 10,
   "metadata": {
    "execution": {
     "iopub.execute_input": "2024-04-24T16:48:14.535474Z",
     "iopub.status.busy": "2024-04-24T16:48:14.534835Z",
     "iopub.status.idle": "2024-04-24T16:48:14.555852Z",
     "shell.execute_reply": "2024-04-24T16:48:14.554425Z",
     "shell.execute_reply.started": "2024-04-24T16:48:14.535441Z"
    }
   },
   "outputs": [
    {
     "name": "stdout",
     "output_type": "stream",
     "text": [
      "                                           file_path              video_name  \\\n",
      "0  /kaggle/input/dcsass-dataset/DCSASS Dataset/Sh...  Shoplifting045_x264_11   \n",
      "1  /kaggle/input/dcsass-dataset/DCSASS Dataset/Sh...   Shoplifting045_x264_5   \n",
      "2  /kaggle/input/dcsass-dataset/DCSASS Dataset/Sh...  Shoplifting045_x264_29   \n",
      "3  /kaggle/input/dcsass-dataset/DCSASS Dataset/Sh...  Shoplifting045_x264_27   \n",
      "4  /kaggle/input/dcsass-dataset/DCSASS Dataset/Sh...  Shoplifting045_x264_13   \n",
      "\n",
      "   Shoplifting  \n",
      "0            0  \n",
      "1            0  \n",
      "2            1  \n",
      "3            1  \n",
      "4            0  \n"
     ]
    }
   ],
   "source": [
    "# Merge the two DataFrames based on the video names\n",
    "combined_df = pd.merge(df_shoplifting_videos, lab, left_on='video_name', right_on='Shoplifting001_x264_0', how='inner')\n",
    "\n",
    "# Drop the extra columns\n",
    "combined_df.drop(columns=['Shoplifting001_x264_0'], inplace=True)\n",
    "\n",
    "# Print the combined DataFrame\n",
    "print(combined_df.head())\n"
   ]
  },
  {
   "cell_type": "code",
   "execution_count": 11,
   "metadata": {
    "execution": {
     "iopub.execute_input": "2024-04-24T16:48:15.429536Z",
     "iopub.status.busy": "2024-04-24T16:48:15.429134Z",
     "iopub.status.idle": "2024-04-24T16:48:15.436555Z",
     "shell.execute_reply": "2024-04-24T16:48:15.435409Z",
     "shell.execute_reply.started": "2024-04-24T16:48:15.429501Z"
    }
   },
   "outputs": [
    {
     "data": {
      "text/plain": [
       "(895, 3)"
      ]
     },
     "execution_count": 11,
     "metadata": {},
     "output_type": "execute_result"
    }
   ],
   "source": [
    "combined_df.shape"
   ]
  },
  {
   "cell_type": "code",
   "execution_count": 12,
   "metadata": {
    "execution": {
     "iopub.execute_input": "2024-04-24T16:48:16.422155Z",
     "iopub.status.busy": "2024-04-24T16:48:16.421787Z",
     "iopub.status.idle": "2024-04-24T16:48:16.427384Z",
     "shell.execute_reply": "2024-04-24T16:48:16.426237Z",
     "shell.execute_reply.started": "2024-04-24T16:48:16.422126Z"
    }
   },
   "outputs": [],
   "source": [
    "import cv2"
   ]
  },
  {
   "cell_type": "code",
   "execution_count": 13,
   "metadata": {
    "execution": {
     "iopub.execute_input": "2024-04-24T16:48:17.141797Z",
     "iopub.status.busy": "2024-04-24T16:48:17.141367Z",
     "iopub.status.idle": "2024-04-24T16:48:17.151216Z",
     "shell.execute_reply": "2024-04-24T16:48:17.149944Z",
     "shell.execute_reply.started": "2024-04-24T16:48:17.141765Z"
    }
   },
   "outputs": [],
   "source": [
    "import cv2\n",
    "import numpy as np\n",
    "import pandas as pd\n",
    "\n",
    "# Define functions for preprocessing frames and processing videos\n",
    "def preprocess_frame(frame, target_size):\n",
    "    frame_resized = cv2.resize(frame, target_size)\n",
    "    frame_normalized = frame_resized / 255.0\n",
    "    return frame_normalized\n",
    "\n",
    "def process_video(video_path, target_size=(59, 59), max_frames=30):\n",
    "    cap = cv2.VideoCapture(video_path)\n",
    "    frames = []\n",
    "    frame_count = 0\n",
    "\n",
    "    while cap.isOpened() and frame_count < max_frames:\n",
    "        ret, frame = cap.read()\n",
    "        if not ret:\n",
    "            break\n",
    "\n",
    "        frame_processed = preprocess_frame(frame, target_size)\n",
    "        frames.append(frame_processed)\n",
    "\n",
    "        frame_count += 1\n",
    "\n",
    "    cap.release()\n",
    "\n",
    "    while len(frames) < max_frames:\n",
    "        frames.append(np.zeros_like(frames[0]))\n",
    "\n",
    "    video_data = np.array(frames)\n",
    "\n",
    "    return video_data\n",
    "\n"
   ]
  },
  {
   "cell_type": "code",
   "execution_count": 14,
   "metadata": {
    "execution": {
     "iopub.execute_input": "2024-04-24T16:48:17.859357Z",
     "iopub.status.busy": "2024-04-24T16:48:17.858549Z",
     "iopub.status.idle": "2024-04-24T16:48:43.821081Z",
     "shell.execute_reply": "2024-04-24T16:48:43.819945Z",
     "shell.execute_reply.started": "2024-04-24T16:48:17.859295Z"
    }
   },
   "outputs": [],
   "source": [
    "processed_data = []\n",
    "\n",
    "# Apply preprocessing to each video in the DataFrame\n",
    "for index, row in combined_df.iterrows():\n",
    "    video_path = row['file_path']\n",
    "    label = row['Shoplifting']\n",
    "    processed_video = process_video(video_path)\n",
    "    processed_data.append((processed_video, label))\n",
    "\n",
    "# Convert the list of processed videos to a DataFrame\n",
    "processed_df = pd.DataFrame(processed_data, columns=['video_data', 'label'])\n"
   ]
  },
  {
   "cell_type": "code",
   "execution_count": 15,
   "metadata": {
    "execution": {
     "iopub.execute_input": "2024-04-24T16:48:43.825373Z",
     "iopub.status.busy": "2024-04-24T16:48:43.824923Z",
     "iopub.status.idle": "2024-04-24T16:49:37.766118Z",
     "shell.execute_reply": "2024-04-24T16:49:37.763768Z",
     "shell.execute_reply.started": "2024-04-24T16:48:43.825329Z"
    }
   },
   "outputs": [
    {
     "name": "stdout",
     "output_type": "stream",
     "text": [
      "                                          video_data  label\n",
      "0  [[[[0. 0. 0.], [0. 0. 0.], [0. 0. 0.], [0. 0. ...      0\n",
      "1  [[[[0. 0. 0.], [0. 0. 0.], [0. 0. 0.], [0. 0. ...      0\n",
      "2  [[[[0. 0. 0.], [0. 0. 0.], [0. 0. 0.], [0. 0. ...      1\n",
      "3  [[[[0. 0. 0.], [0. 0. 0.], [0. 0. 0.], [0. 0. ...      1\n",
      "4  [[[[0. 0. 0.], [0. 0. 0.], [0. 0. 0.], [0. 0. ...      0\n"
     ]
    }
   ],
   "source": [
    "print(processed_df.head())"
   ]
  },
  {
   "cell_type": "code",
   "execution_count": 16,
   "metadata": {
    "execution": {
     "iopub.execute_input": "2024-04-24T16:49:37.767574Z",
     "iopub.status.busy": "2024-04-24T16:49:37.767222Z",
     "iopub.status.idle": "2024-04-24T16:49:53.541089Z",
     "shell.execute_reply": "2024-04-24T16:49:53.540018Z",
     "shell.execute_reply.started": "2024-04-24T16:49:37.767543Z"
    }
   },
   "outputs": [
    {
     "name": "stderr",
     "output_type": "stream",
     "text": [
      "2024-04-24 16:49:40.939159: E external/local_xla/xla/stream_executor/cuda/cuda_dnn.cc:9261] Unable to register cuDNN factory: Attempting to register factory for plugin cuDNN when one has already been registered\n",
      "2024-04-24 16:49:40.939306: E external/local_xla/xla/stream_executor/cuda/cuda_fft.cc:607] Unable to register cuFFT factory: Attempting to register factory for plugin cuFFT when one has already been registered\n",
      "2024-04-24 16:49:41.112919: E external/local_xla/xla/stream_executor/cuda/cuda_blas.cc:1515] Unable to register cuBLAS factory: Attempting to register factory for plugin cuBLAS when one has already been registered\n"
     ]
    }
   ],
   "source": [
    "from sklearn.model_selection import train_test_split\n",
    "from sklearn.metrics import classification_report\n",
    "from tensorflow.keras.models import Sequential\n",
    "from tensorflow.keras.layers import Conv2D, MaxPooling2D, Flatten, Dense\n"
   ]
  },
  {
   "cell_type": "code",
   "execution_count": 17,
   "metadata": {
    "execution": {
     "iopub.execute_input": "2024-04-24T16:49:53.544695Z",
     "iopub.status.busy": "2024-04-24T16:49:53.543819Z",
     "iopub.status.idle": "2024-04-24T16:49:53.554750Z",
     "shell.execute_reply": "2024-04-24T16:49:53.553716Z",
     "shell.execute_reply.started": "2024-04-24T16:49:53.544650Z"
    }
   },
   "outputs": [],
   "source": [
    "# Split the data into training and testing sets\n",
    "X_train, X_test, y_train, y_test = train_test_split(processed_df['video_data'].values,\n",
    "                                                    processed_df['label'].values,\n",
    "                                                    test_size=0.2,\n",
    "                                                    random_state=42)\n"
   ]
  },
  {
   "cell_type": "code",
   "execution_count": 18,
   "metadata": {
    "execution": {
     "iopub.execute_input": "2024-04-24T16:49:53.556011Z",
     "iopub.status.busy": "2024-04-24T16:49:53.555713Z",
     "iopub.status.idle": "2024-04-24T16:49:53.750646Z",
     "shell.execute_reply": "2024-04-24T16:49:53.749415Z",
     "shell.execute_reply.started": "2024-04-24T16:49:53.555985Z"
    }
   },
   "outputs": [
    {
     "name": "stderr",
     "output_type": "stream",
     "text": [
      "/opt/conda/lib/python3.10/site-packages/keras/src/layers/core/wrapper.py:27: UserWarning: Do not pass an `input_shape`/`input_dim` argument to a layer. When using Sequential models, prefer using an `Input(shape)` object as the first layer in the model instead.\n",
      "  super().__init__(**kwargs)\n"
     ]
    }
   ],
   "source": [
    "from tensorflow.keras.layers import TimeDistributed, LSTM\n",
    "\n",
    "# Define the CNN architecture\n",
    "model = Sequential([\n",
    "    TimeDistributed(Conv2D(32, (3, 3), activation='relu'), input_shape=(None, 59, 59, 3)),\n",
    "    TimeDistributed(MaxPooling2D((2, 2))),\n",
    "    TimeDistributed(Conv2D(64, (3, 3), activation='relu')),\n",
    "    TimeDistributed(MaxPooling2D((2, 2))),\n",
    "    TimeDistributed(Flatten()),\n",
    "    LSTM(64),\n",
    "    Dense(1, activation='sigmoid')\n",
    "])\n",
    "\n"
   ]
  },
  {
   "cell_type": "code",
   "execution_count": 19,
   "metadata": {
    "execution": {
     "iopub.execute_input": "2024-04-24T16:49:59.618658Z",
     "iopub.status.busy": "2024-04-24T16:49:59.618244Z",
     "iopub.status.idle": "2024-04-24T16:49:59.637084Z",
     "shell.execute_reply": "2024-04-24T16:49:59.635651Z",
     "shell.execute_reply.started": "2024-04-24T16:49:59.618626Z"
    }
   },
   "outputs": [],
   "source": [
    "# Compile the model\n",
    "model.compile(optimizer='adam',\n",
    "              loss='binary_crossentropy',\n",
    "              metrics=['accuracy'])\n"
   ]
  },
  {
   "cell_type": "code",
   "execution_count": 21,
   "metadata": {
    "execution": {
     "iopub.execute_input": "2024-04-24T16:51:32.789471Z",
     "iopub.status.busy": "2024-04-24T16:51:32.789070Z",
     "iopub.status.idle": "2024-04-24T17:37:56.381144Z",
     "shell.execute_reply": "2024-04-24T17:37:56.379431Z",
     "shell.execute_reply.started": "2024-04-24T16:51:32.789441Z"
    }
   },
   "outputs": [
    {
     "name": "stdout",
     "output_type": "stream",
     "text": [
      "Epoch 1/10\n",
      "\u001b[1m21/21\u001b[0m \u001b[32m━━━━━━━━━━━━━━━━━━━━\u001b[0m\u001b[37m\u001b[0m \u001b[1m296s\u001b[0m 13s/step - accuracy: 0.8005 - loss: 0.6099 - val_accuracy: 0.8750 - val_loss: 0.3740\n",
      "Epoch 2/10\n",
      "\u001b[1m21/21\u001b[0m \u001b[32m━━━━━━━━━━━━━━━━━━━━\u001b[0m\u001b[37m\u001b[0m \u001b[1m289s\u001b[0m 12s/step - accuracy: 0.8080 - loss: 0.4872 - val_accuracy: 0.8750 - val_loss: 0.3678\n",
      "Epoch 3/10\n",
      "\u001b[1m21/21\u001b[0m \u001b[32m━━━━━━━━━━━━━━━━━━━━\u001b[0m\u001b[37m\u001b[0m \u001b[1m276s\u001b[0m 13s/step - accuracy: 0.8108 - loss: 0.4749 - val_accuracy: 0.8750 - val_loss: 0.3891\n",
      "Epoch 4/10\n",
      "\u001b[1m21/21\u001b[0m \u001b[32m━━━━━━━━━━━━━━━━━━━━\u001b[0m\u001b[37m\u001b[0m \u001b[1m298s\u001b[0m 12s/step - accuracy: 0.8222 - loss: 0.4479 - val_accuracy: 0.8750 - val_loss: 0.3855\n",
      "Epoch 5/10\n",
      "\u001b[1m21/21\u001b[0m \u001b[32m━━━━━━━━━━━━━━━━━━━━\u001b[0m\u001b[37m\u001b[0m \u001b[1m277s\u001b[0m 13s/step - accuracy: 0.8293 - loss: 0.4105 - val_accuracy: 0.8194 - val_loss: 0.3784\n",
      "Epoch 6/10\n",
      "\u001b[1m21/21\u001b[0m \u001b[32m━━━━━━━━━━━━━━━━━━━━\u001b[0m\u001b[37m\u001b[0m \u001b[1m246s\u001b[0m 12s/step - accuracy: 0.8265 - loss: 0.3768 - val_accuracy: 0.8750 - val_loss: 0.3373\n",
      "Epoch 7/10\n",
      "\u001b[1m21/21\u001b[0m \u001b[32m━━━━━━━━━━━━━━━━━━━━\u001b[0m\u001b[37m\u001b[0m \u001b[1m282s\u001b[0m 13s/step - accuracy: 0.8171 - loss: 0.3940 - val_accuracy: 0.8889 - val_loss: 0.3205\n",
      "Epoch 8/10\n",
      "\u001b[1m21/21\u001b[0m \u001b[32m━━━━━━━━━━━━━━━━━━━━\u001b[0m\u001b[37m\u001b[0m \u001b[1m302s\u001b[0m 12s/step - accuracy: 0.8105 - loss: 0.4004 - val_accuracy: 0.8333 - val_loss: 0.3319\n",
      "Epoch 9/10\n",
      "\u001b[1m21/21\u001b[0m \u001b[32m━━━━━━━━━━━━━━━━━━━━\u001b[0m\u001b[37m\u001b[0m \u001b[1m244s\u001b[0m 12s/step - accuracy: 0.8432 - loss: 0.3476 - val_accuracy: 0.8472 - val_loss: 0.3302\n",
      "Epoch 10/10\n",
      "\u001b[1m21/21\u001b[0m \u001b[32m━━━━━━━━━━━━━━━━━━━━\u001b[0m\u001b[37m\u001b[0m \u001b[1m271s\u001b[0m 13s/step - accuracy: 0.8590 - loss: 0.3080 - val_accuracy: 0.8472 - val_loss: 0.3333\n"
     ]
    },
    {
     "data": {
      "text/plain": [
       "<keras.src.callbacks.history.History at 0x7f76101244f0>"
      ]
     },
     "execution_count": 21,
     "metadata": {},
     "output_type": "execute_result"
    }
   ],
   "source": [
    "# Stack frames along a new axis to create tensors for each sample\n",
    "X_train = np.stack(X_train, axis=0)\n",
    "X_test = np.stack(X_test, axis=0)\n",
    "\n",
    "# Ensure that labels are in the correct format\n",
    "y_train = np.array(y_train)\n",
    "y_test = np.array(y_test)\n",
    "\n",
    "# Train the model\n",
    "model.fit(X_train, y_train, epochs=10, batch_size=32, validation_split=0.1)\n"
   ]
  },
  {
   "cell_type": "code",
   "execution_count": 25,
   "metadata": {
    "execution": {
     "iopub.execute_input": "2024-04-24T17:47:20.354963Z",
     "iopub.status.busy": "2024-04-24T17:47:20.354566Z",
     "iopub.status.idle": "2024-04-24T17:47:25.992867Z",
     "shell.execute_reply": "2024-04-24T17:47:25.991391Z",
     "shell.execute_reply.started": "2024-04-24T17:47:20.354935Z"
    }
   },
   "outputs": [
    {
     "name": "stdout",
     "output_type": "stream",
     "text": [
      "\u001b[1m6/6\u001b[0m \u001b[32m━━━━━━━━━━━━━━━━━━━━\u001b[0m\u001b[37m\u001b[0m \u001b[1m3s\u001b[0m 543ms/step\n",
      "              precision    recall  f1-score   support\n",
      "\n",
      "           0       0.89      0.94      0.91       154\n",
      "           1       0.44      0.32      0.37        25\n",
      "\n",
      "    accuracy                           0.85       179\n",
      "   macro avg       0.67      0.63      0.64       179\n",
      "weighted avg       0.83      0.85      0.84       179\n",
      "\n"
     ]
    }
   ],
   "source": [
    "from sklearn.metrics import classification_report\n",
    "\n",
    "# Assuming `model` has already been trained and X_test, y_test are defined\n",
    "predictions_proba = model.predict(X_test)\n",
    "\n",
    "# Convert probabilities to class labels using a threshold (e.g., 0.5)\n",
    "threshold = 0.5\n",
    "predictions = (predictions_proba > threshold).astype(int)\n",
    "\n",
    "# Print classification report\n",
    "print(classification_report(y_test, predictions))\n"
   ]
  },
  {
   "cell_type": "code",
   "execution_count": null,
   "metadata": {},
   "outputs": [],
   "source": []
  }
 ],
 "metadata": {
  "kaggle": {
   "accelerator": "none",
   "dataSources": [
    {
     "datasetId": 205791,
     "sourceId": 451400,
     "sourceType": "datasetVersion"
    }
   ],
   "dockerImageVersionId": 30702,
   "isGpuEnabled": false,
   "isInternetEnabled": true,
   "language": "python",
   "sourceType": "notebook"
  },
  "kernelspec": {
   "display_name": "Python 3 (ipykernel)",
   "language": "python",
   "name": "python3"
  },
  "language_info": {
   "codemirror_mode": {
    "name": "ipython",
    "version": 3
   },
   "file_extension": ".py",
   "mimetype": "text/x-python",
   "name": "python",
   "nbconvert_exporter": "python",
   "pygments_lexer": "ipython3",
   "version": "3.9.7"
  }
 },
 "nbformat": 4,
 "nbformat_minor": 4
}
